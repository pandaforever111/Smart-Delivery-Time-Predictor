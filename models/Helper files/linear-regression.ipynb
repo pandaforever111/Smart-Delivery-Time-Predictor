{
 "cells": [
  {
   "cell_type": "markdown",
   "metadata": {},
   "source": [
    "RESULTS\n",
    "\n",
    "R-squared: 0.5090637826199746\n",
    "Mean Absolute Error: 5.265976326058109"
   ]
  },
  {
   "cell_type": "code",
   "execution_count": null,
   "metadata": {
    "vscode": {
     "languageId": "plaintext"
    }
   },
   "outputs": [],
   "source": [
    "import pandas as pd\n",
    "from tqdm import tqdm\n",
    "\n",
    "# Start the timer\n",
    "# start_time = time.time()\n",
    "\n",
    "# Load the preprocessed train dataset\n",
    "train = pd.read_csv(\"../../Datasets/new/train.csv\")\n",
    "print(train.head())"
   ]
  },
  {
   "cell_type": "code",
   "execution_count": null,
   "metadata": {
    "vscode": {
     "languageId": "plaintext"
    }
   },
   "outputs": [],
   "source": [
    "from sklearn.model_selection import train_test_split\n",
    "from sklearn.linear_model import LinearRegression\n",
    "from sklearn.metrics import r2_score, mean_absolute_error\n",
    "from sklearn.preprocessing import LabelEncoder\n",
    "import time\n",
    "\n",
    "# Drop ID columns that are not needed for regression\n",
    "columns_to_drop = ['ID', 'Delivery_person_ID', 'Order_Date', 'Time_Orderd', 'Time_Order_picked']\n",
    "train.drop(columns=columns_to_drop, inplace=True, errors='ignore')  # Use errors='ignore' to avoid KeyError\n",
    "\n",
    "# Check for non-numeric columns\n",
    "non_numeric_columns = train.select_dtypes(include=['object']).columns\n",
    "print(f\"Non-numeric columns: {non_numeric_columns}\")\n",
    "\n",
    "# Encode categorical columns using Label Encoding\n",
    "label_encoder = LabelEncoder()\n",
    "\n",
    "# List of categorical columns to encode\n",
    "categorical_cols = ['Weatherconditions', 'Road_traffic_density', \n",
    "                    'Type_of_order', 'Type_of_vehicle', 'Festival', 'City']\n",
    "\n",
    "# Apply LabelEncoder to categorical columns\n",
    "for col in tqdm(categorical_cols):\n",
    "    train[col] = label_encoder.fit_transform(train[col])\n",
    "\n",
    "# After encoding, check again for any non-numeric columns\n",
    "non_numeric_columns_after = train.select_dtypes(include=['object']).columns\n",
    "print(f\"Remaining non-numeric columns after encoding: {non_numeric_columns_after}\")\n",
    "\n",
    "# Separate features (X) and target variable (y)\n",
    "X = train.drop(columns=['Time_taken(min)'])  # Drop target variable\n",
    "y = train['Time_taken(min)']  # Target variable\n",
    "\n",
    "# Split the data into training and testing sets\n",
    "X_train, X_test, y_train, y_test = train_test_split(X, y, test_size=0.2, random_state=42)\n",
    "\n",
    "# Create a linear regression model\n",
    "model = LinearRegression()\n",
    "\n",
    "# Train the model\n",
    "model.fit(X_train, y_train)\n",
    "\n",
    "# Predict on the test set\n",
    "y_pred = model.predict(X_test)\n",
    "\n",
    "# Evaluate the model\n",
    "r2 = r2_score(y_test, y_pred)\n",
    "mae = mean_absolute_error(y_test, y_pred)\n",
    "\n",
    "print(f\"R-squared: {r2}\")\n",
    "print(f\"Mean Absolute Error: {mae}\")"
   ]
  }
 ],
 "metadata": {
  "language_info": {
   "name": "python"
  }
 },
 "nbformat": 4,
 "nbformat_minor": 2
}
